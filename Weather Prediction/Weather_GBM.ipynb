{
 "cells": [
  {
   "cell_type": "code",
   "execution_count": 218,
   "id": "73845345",
   "metadata": {},
   "outputs": [],
   "source": [
    "import pandas as pd\n",
    "import numpy as np\n",
    "import matplotlib.pyplot as plt\n",
    "import seaborn as sns\n",
    "import plotly.express as px"
   ]
  },
  {
   "cell_type": "code",
   "execution_count": 219,
   "id": "e824e54a",
   "metadata": {},
   "outputs": [
    {
     "data": {
      "text/html": [
       "<div>\n",
       "<style scoped>\n",
       "    .dataframe tbody tr th:only-of-type {\n",
       "        vertical-align: middle;\n",
       "    }\n",
       "\n",
       "    .dataframe tbody tr th {\n",
       "        vertical-align: top;\n",
       "    }\n",
       "\n",
       "    .dataframe thead th {\n",
       "        text-align: right;\n",
       "    }\n",
       "</style>\n",
       "<table border=\"1\" class=\"dataframe\">\n",
       "  <thead>\n",
       "    <tr style=\"text-align: right;\">\n",
       "      <th></th>\n",
       "      <th>Date</th>\n",
       "      <th>Location</th>\n",
       "      <th>MinTemp</th>\n",
       "      <th>MaxTemp</th>\n",
       "      <th>Rainfall</th>\n",
       "      <th>Evaporation</th>\n",
       "      <th>Sunshine</th>\n",
       "      <th>WindGustDir</th>\n",
       "      <th>WindGustSpeed</th>\n",
       "      <th>WindDir9am</th>\n",
       "      <th>...</th>\n",
       "      <th>Humidity9am</th>\n",
       "      <th>Humidity3pm</th>\n",
       "      <th>Pressure9am</th>\n",
       "      <th>Pressure3pm</th>\n",
       "      <th>Cloud9am</th>\n",
       "      <th>Cloud3pm</th>\n",
       "      <th>Temp9am</th>\n",
       "      <th>Temp3pm</th>\n",
       "      <th>RainToday</th>\n",
       "      <th>RainTomorrow</th>\n",
       "    </tr>\n",
       "  </thead>\n",
       "  <tbody>\n",
       "    <tr>\n",
       "      <th>0</th>\n",
       "      <td>2008-12-01</td>\n",
       "      <td>Albury</td>\n",
       "      <td>13.4</td>\n",
       "      <td>22.9</td>\n",
       "      <td>0.6</td>\n",
       "      <td>NaN</td>\n",
       "      <td>NaN</td>\n",
       "      <td>W</td>\n",
       "      <td>44.0</td>\n",
       "      <td>W</td>\n",
       "      <td>...</td>\n",
       "      <td>71.0</td>\n",
       "      <td>22.0</td>\n",
       "      <td>1007.7</td>\n",
       "      <td>1007.1</td>\n",
       "      <td>8.0</td>\n",
       "      <td>NaN</td>\n",
       "      <td>16.9</td>\n",
       "      <td>21.8</td>\n",
       "      <td>No</td>\n",
       "      <td>No</td>\n",
       "    </tr>\n",
       "    <tr>\n",
       "      <th>1</th>\n",
       "      <td>2008-12-02</td>\n",
       "      <td>Albury</td>\n",
       "      <td>7.4</td>\n",
       "      <td>25.1</td>\n",
       "      <td>0.0</td>\n",
       "      <td>NaN</td>\n",
       "      <td>NaN</td>\n",
       "      <td>WNW</td>\n",
       "      <td>44.0</td>\n",
       "      <td>NNW</td>\n",
       "      <td>...</td>\n",
       "      <td>44.0</td>\n",
       "      <td>25.0</td>\n",
       "      <td>1010.6</td>\n",
       "      <td>1007.8</td>\n",
       "      <td>NaN</td>\n",
       "      <td>NaN</td>\n",
       "      <td>17.2</td>\n",
       "      <td>24.3</td>\n",
       "      <td>No</td>\n",
       "      <td>No</td>\n",
       "    </tr>\n",
       "    <tr>\n",
       "      <th>2</th>\n",
       "      <td>2008-12-03</td>\n",
       "      <td>Albury</td>\n",
       "      <td>12.9</td>\n",
       "      <td>25.7</td>\n",
       "      <td>0.0</td>\n",
       "      <td>NaN</td>\n",
       "      <td>NaN</td>\n",
       "      <td>WSW</td>\n",
       "      <td>46.0</td>\n",
       "      <td>W</td>\n",
       "      <td>...</td>\n",
       "      <td>38.0</td>\n",
       "      <td>30.0</td>\n",
       "      <td>1007.6</td>\n",
       "      <td>1008.7</td>\n",
       "      <td>NaN</td>\n",
       "      <td>2.0</td>\n",
       "      <td>21.0</td>\n",
       "      <td>23.2</td>\n",
       "      <td>No</td>\n",
       "      <td>No</td>\n",
       "    </tr>\n",
       "    <tr>\n",
       "      <th>3</th>\n",
       "      <td>2008-12-04</td>\n",
       "      <td>Albury</td>\n",
       "      <td>9.2</td>\n",
       "      <td>28.0</td>\n",
       "      <td>0.0</td>\n",
       "      <td>NaN</td>\n",
       "      <td>NaN</td>\n",
       "      <td>NE</td>\n",
       "      <td>24.0</td>\n",
       "      <td>SE</td>\n",
       "      <td>...</td>\n",
       "      <td>45.0</td>\n",
       "      <td>16.0</td>\n",
       "      <td>1017.6</td>\n",
       "      <td>1012.8</td>\n",
       "      <td>NaN</td>\n",
       "      <td>NaN</td>\n",
       "      <td>18.1</td>\n",
       "      <td>26.5</td>\n",
       "      <td>No</td>\n",
       "      <td>No</td>\n",
       "    </tr>\n",
       "    <tr>\n",
       "      <th>4</th>\n",
       "      <td>2008-12-05</td>\n",
       "      <td>Albury</td>\n",
       "      <td>17.5</td>\n",
       "      <td>32.3</td>\n",
       "      <td>1.0</td>\n",
       "      <td>NaN</td>\n",
       "      <td>NaN</td>\n",
       "      <td>W</td>\n",
       "      <td>41.0</td>\n",
       "      <td>ENE</td>\n",
       "      <td>...</td>\n",
       "      <td>82.0</td>\n",
       "      <td>33.0</td>\n",
       "      <td>1010.8</td>\n",
       "      <td>1006.0</td>\n",
       "      <td>7.0</td>\n",
       "      <td>8.0</td>\n",
       "      <td>17.8</td>\n",
       "      <td>29.7</td>\n",
       "      <td>No</td>\n",
       "      <td>No</td>\n",
       "    </tr>\n",
       "  </tbody>\n",
       "</table>\n",
       "<p>5 rows × 23 columns</p>\n",
       "</div>"
      ],
      "text/plain": [
       "         Date Location  MinTemp  MaxTemp  Rainfall  Evaporation  Sunshine  \\\n",
       "0  2008-12-01   Albury     13.4     22.9       0.6          NaN       NaN   \n",
       "1  2008-12-02   Albury      7.4     25.1       0.0          NaN       NaN   \n",
       "2  2008-12-03   Albury     12.9     25.7       0.0          NaN       NaN   \n",
       "3  2008-12-04   Albury      9.2     28.0       0.0          NaN       NaN   \n",
       "4  2008-12-05   Albury     17.5     32.3       1.0          NaN       NaN   \n",
       "\n",
       "  WindGustDir  WindGustSpeed WindDir9am  ... Humidity9am  Humidity3pm  \\\n",
       "0           W           44.0          W  ...        71.0         22.0   \n",
       "1         WNW           44.0        NNW  ...        44.0         25.0   \n",
       "2         WSW           46.0          W  ...        38.0         30.0   \n",
       "3          NE           24.0         SE  ...        45.0         16.0   \n",
       "4           W           41.0        ENE  ...        82.0         33.0   \n",
       "\n",
       "   Pressure9am  Pressure3pm  Cloud9am  Cloud3pm  Temp9am  Temp3pm  RainToday  \\\n",
       "0       1007.7       1007.1       8.0       NaN     16.9     21.8         No   \n",
       "1       1010.6       1007.8       NaN       NaN     17.2     24.3         No   \n",
       "2       1007.6       1008.7       NaN       2.0     21.0     23.2         No   \n",
       "3       1017.6       1012.8       NaN       NaN     18.1     26.5         No   \n",
       "4       1010.8       1006.0       7.0       8.0     17.8     29.7         No   \n",
       "\n",
       "   RainTomorrow  \n",
       "0            No  \n",
       "1            No  \n",
       "2            No  \n",
       "3            No  \n",
       "4            No  \n",
       "\n",
       "[5 rows x 23 columns]"
      ]
     },
     "execution_count": 219,
     "metadata": {},
     "output_type": "execute_result"
    }
   ],
   "source": [
    "df=pd.read_csv('weatherAUS.csv')\n",
    "df.head()"
   ]
  },
  {
   "cell_type": "code",
   "execution_count": 220,
   "id": "57112749",
   "metadata": {},
   "outputs": [],
   "source": [
    "df.dropna(subset=['RainTomorrow'], inplace=True)"
   ]
  },
  {
   "cell_type": "code",
   "execution_count": null,
   "id": "f96ad5fc",
   "metadata": {},
   "outputs": [],
   "source": [
    "pos=neg=0\n",
    "for i in df['RainTomorrow']:\n",
    "    if i=='Yes':\n",
    "        pos+=1\n",
    "    else:\n",
    "        neg+=1\n",
    "neg/pos"
   ]
  },
  {
   "cell_type": "markdown",
   "id": "a0c4e8c3",
   "metadata": {},
   "source": [
    "## Creating Training ,Validation and Test dataset"
   ]
  },
  {
   "cell_type": "code",
   "execution_count": 221,
   "id": "5d25be12",
   "metadata": {},
   "outputs": [
    {
     "data": {
      "image/png": "[encoded data removed]",
      "text/plain": [
       "<Figure size 640x480 with 1 Axes>"
      ]
     },
     "metadata": {},
     "output_type": "display_data"
    }
   ],
   "source": [
    "plt.title('No. of Rows per Year')\n",
    "sns.countplot(x=pd.to_datetime(df.Date).dt.year);\n",
    "plt.show()"
   ]
  },
  {
   "cell_type": "code",
   "execution_count": 222,
   "id": "8e5ea208",
   "metadata": {},
   "outputs": [
    {
     "name": "stdout",
     "output_type": "stream",
     "text": [
      "train_df.shape : (98988, 23)\n",
      "val_df.shape : (17231, 23)\n",
      "test_df.shape : (25974, 23)\n"
     ]
    },
    {
     "name": "stderr",
     "output_type": "stream",
     "text": [
      "C:\\Users\\balaji\\anaconda3\\envs\\tf2.4\\lib\\site-packages\\pandas\\core\\frame.py:4901: SettingWithCopyWarning: \n",
      "A value is trying to be set on a copy of a slice from a DataFrame\n",
      "\n",
      "See the caveats in the documentation: https://pandas.pydata.org/pandas-docs/stable/user_guide/indexing.html#returning-a-view-versus-a-copy\n",
      "  return super().drop(\n"
     ]
    }
   ],
   "source": [
    "year = pd.to_datetime(df.Date).dt.year\n",
    "\n",
    "train_df = df[year < 2015]\n",
    "val_df = df[year == 2015]\n",
    "test_df = df[year > 2015]\n",
    "\n",
    "\n",
    "\n",
    "print('train_df.shape :', train_df.shape)\n",
    "print('val_df.shape :', val_df.shape)\n",
    "print('test_df.shape :', test_df.shape)\n",
    "\n",
    "\n",
    "train_targets=train_df['RainTomorrow']\n",
    "val_targets=val_df['RainTomorrow']\n",
    "test_targets=test_df['RainTomorrow']\n",
    "\n",
    "\n",
    "train_df.drop(['RainTomorrow','Date'],axis=1,inplace=True);\n",
    "val_df.drop(['RainTomorrow','Date'],axis=1,inplace=True);\n",
    "test_df.drop(['RainTomorrow','Date'],axis=1,inplace=True);"
   ]
  },
  {
   "cell_type": "code",
   "execution_count": 223,
   "id": "cab22142",
   "metadata": {},
   "outputs": [],
   "source": [
    "numeric_cols = train_df.select_dtypes(include=np.number).columns.tolist()[:-1]\n",
    "categorical_cols = train_df.select_dtypes('object').columns.tolist()"
   ]
  },
  {
   "cell_type": "markdown",
   "id": "3513de6f",
   "metadata": {},
   "source": [
    "## Imputer to fill missing data"
   ]
  },
  {
   "cell_type": "code",
   "execution_count": 224,
   "id": "b0fe09ec",
   "metadata": {},
   "outputs": [
    {
     "name": "stderr",
     "output_type": "stream",
     "text": [
      "C:\\Users\\balaji\\anaconda3\\envs\\tf2.4\\lib\\site-packages\\pandas\\core\\frame.py:3673: SettingWithCopyWarning: \n",
      "A value is trying to be set on a copy of a slice from a DataFrame.\n",
      "Try using .loc[row_indexer,col_indexer] = value instead\n",
      "\n",
      "See the caveats in the documentation: https://pandas.pydata.org/pandas-docs/stable/user_guide/indexing.html#returning-a-view-versus-a-copy\n",
      "  self[col] = igetitem(value, i)\n",
      "C:\\Users\\balaji\\anaconda3\\envs\\tf2.4\\lib\\site-packages\\pandas\\core\\frame.py:3673: SettingWithCopyWarning: \n",
      "A value is trying to be set on a copy of a slice from a DataFrame.\n",
      "Try using .loc[row_indexer,col_indexer] = value instead\n",
      "\n",
      "See the caveats in the documentation: https://pandas.pydata.org/pandas-docs/stable/user_guide/indexing.html#returning-a-view-versus-a-copy\n",
      "  self[col] = igetitem(value, i)\n",
      "C:\\Users\\balaji\\anaconda3\\envs\\tf2.4\\lib\\site-packages\\pandas\\core\\frame.py:3673: SettingWithCopyWarning: \n",
      "A value is trying to be set on a copy of a slice from a DataFrame.\n",
      "Try using .loc[row_indexer,col_indexer] = value instead\n",
      "\n",
      "See the caveats in the documentation: https://pandas.pydata.org/pandas-docs/stable/user_guide/indexing.html#returning-a-view-versus-a-copy\n",
      "  self[col] = igetitem(value, i)\n"
     ]
    }
   ],
   "source": [
    "from sklearn.impute import SimpleImputer\n",
    "imputer=SimpleImputer(strategy='mean');\n",
    "imputer.fit(df[numeric_cols]);\n",
    "train_df[numeric_cols]=imputer.transform(train_df[numeric_cols]);\n",
    "val_df[numeric_cols]=imputer.transform(val_df[numeric_cols]);\n",
    "test_df[numeric_cols]=imputer.transform(test_df[numeric_cols]);"
   ]
  },
  {
   "cell_type": "markdown",
   "id": "d374eb09",
   "metadata": {},
   "source": [
    "## Scaling features using MinMaxScaler "
   ]
  },
  {
   "cell_type": "code",
   "execution_count": 225,
   "id": "2e78ddc3",
   "metadata": {},
   "outputs": [
    {
     "name": "stderr",
     "output_type": "stream",
     "text": [
      "C:\\Users\\balaji\\anaconda3\\envs\\tf2.4\\lib\\site-packages\\pandas\\core\\frame.py:3673: SettingWithCopyWarning: \n",
      "A value is trying to be set on a copy of a slice from a DataFrame.\n",
      "Try using .loc[row_indexer,col_indexer] = value instead\n",
      "\n",
      "See the caveats in the documentation: https://pandas.pydata.org/pandas-docs/stable/user_guide/indexing.html#returning-a-view-versus-a-copy\n",
      "  self[col] = igetitem(value, i)\n",
      "C:\\Users\\balaji\\anaconda3\\envs\\tf2.4\\lib\\site-packages\\pandas\\core\\frame.py:3673: SettingWithCopyWarning: \n",
      "A value is trying to be set on a copy of a slice from a DataFrame.\n",
      "Try using .loc[row_indexer,col_indexer] = value instead\n",
      "\n",
      "See the caveats in the documentation: https://pandas.pydata.org/pandas-docs/stable/user_guide/indexing.html#returning-a-view-versus-a-copy\n",
      "  self[col] = igetitem(value, i)\n",
      "C:\\Users\\balaji\\anaconda3\\envs\\tf2.4\\lib\\site-packages\\pandas\\core\\frame.py:3673: SettingWithCopyWarning: \n",
      "A value is trying to be set on a copy of a slice from a DataFrame.\n",
      "Try using .loc[row_indexer,col_indexer] = value instead\n",
      "\n",
      "See the caveats in the documentation: https://pandas.pydata.org/pandas-docs/stable/user_guide/indexing.html#returning-a-view-versus-a-copy\n",
      "  self[col] = igetitem(value, i)\n"
     ]
    }
   ],
   "source": [
    "from sklearn.preprocessing import MinMaxScaler\n",
    "scaler=MinMaxScaler()\n",
    "scaler.fit(df[numeric_cols]);\n",
    "train_df[numeric_cols]=scaler.transform(train_df[numeric_cols])\n",
    "val_df[numeric_cols]=scaler.transform(val_df[numeric_cols])\n",
    "test_df[numeric_cols]=scaler.transform(test_df[numeric_cols])"
   ]
  },
  {
   "cell_type": "markdown",
   "id": "13a0025b",
   "metadata": {},
   "source": [
    "# One-Hot Encoder"
   ]
  },
  {
   "cell_type": "code",
   "execution_count": 226,
   "id": "63cfb0a2",
   "metadata": {},
   "outputs": [
    {
     "name": "stderr",
     "output_type": "stream",
     "text": [
      "C:\\Users\\balaji\\anaconda3\\envs\\tf2.4\\lib\\site-packages\\pandas\\core\\frame.py:3673: SettingWithCopyWarning: \n",
      "A value is trying to be set on a copy of a slice from a DataFrame.\n",
      "Try using .loc[row_indexer,col_indexer] = value instead\n",
      "\n",
      "See the caveats in the documentation: https://pandas.pydata.org/pandas-docs/stable/user_guide/indexing.html#returning-a-view-versus-a-copy\n",
      "  self[col] = igetitem(value, i)\n",
      "C:\\Users\\balaji\\anaconda3\\envs\\tf2.4\\lib\\site-packages\\pandas\\core\\frame.py:3673: PerformanceWarning: DataFrame is highly fragmented.  This is usually the result of calling `frame.insert` many times, which has poor performance.  Consider joining all columns at once using pd.concat(axis=1) instead.  To get a de-fragmented frame, use `newframe = frame.copy()`\n",
      "  self[col] = igetitem(value, i)\n",
      "C:\\Users\\balaji\\anaconda3\\envs\\tf2.4\\lib\\site-packages\\pandas\\core\\frame.py:3673: SettingWithCopyWarning: \n",
      "A value is trying to be set on a copy of a slice from a DataFrame.\n",
      "Try using .loc[row_indexer,col_indexer] = value instead\n",
      "\n",
      "See the caveats in the documentation: https://pandas.pydata.org/pandas-docs/stable/user_guide/indexing.html#returning-a-view-versus-a-copy\n",
      "  self[col] = igetitem(value, i)\n",
      "C:\\Users\\balaji\\anaconda3\\envs\\tf2.4\\lib\\site-packages\\pandas\\core\\frame.py:3673: PerformanceWarning: DataFrame is highly fragmented.  This is usually the result of calling `frame.insert` many times, which has poor performance.  Consider joining all columns at once using pd.concat(axis=1) instead.  To get a de-fragmented frame, use `newframe = frame.copy()`\n",
      "  self[col] = igetitem(value, i)\n",
      "C:\\Users\\balaji\\anaconda3\\envs\\tf2.4\\lib\\site-packages\\pandas\\core\\frame.py:3673: SettingWithCopyWarning: \n",
      "A value is trying to be set on a copy of a slice from a DataFrame.\n",
      "Try using .loc[row_indexer,col_indexer] = value instead\n",
      "\n",
      "See the caveats in the documentation: https://pandas.pydata.org/pandas-docs/stable/user_guide/indexing.html#returning-a-view-versus-a-copy\n",
      "  self[col] = igetitem(value, i)\n",
      "C:\\Users\\balaji\\anaconda3\\envs\\tf2.4\\lib\\site-packages\\pandas\\core\\frame.py:3673: PerformanceWarning: DataFrame is highly fragmented.  This is usually the result of calling `frame.insert` many times, which has poor performance.  Consider joining all columns at once using pd.concat(axis=1) instead.  To get a de-fragmented frame, use `newframe = frame.copy()`\n",
      "  self[col] = igetitem(value, i)\n"
     ]
    }
   ],
   "source": [
    "from sklearn.preprocessing import OneHotEncoder\n",
    "encoder=OneHotEncoder(sparse=False,handle_unknown='ignore')\n",
    "encoder.fit(train_df[categorical_cols])\n",
    "encoded_cols=list(encoder.get_feature_names(categorical_cols))\n",
    "train_df[encoded_cols]=encoder.transform(train_df[categorical_cols]);\n",
    "val_df[encoded_cols]=encoder.transform(val_df[categorical_cols]);\n",
    "test_df[encoded_cols]=encoder.transform(test_df[categorical_cols]);"
   ]
  },
  {
   "cell_type": "code",
   "execution_count": 227,
   "id": "60076dcd",
   "metadata": {},
   "outputs": [],
   "source": [
    "train_df=train_df[numeric_cols+encoded_cols]\n",
    "val_df=val_df[numeric_cols+encoded_cols]\n",
    "test_df=test_df[numeric_cols+encoded_cols]"
   ]
  },
  {
   "cell_type": "code",
   "execution_count": 228,
   "id": "ab8de51b",
   "metadata": {},
   "outputs": [
    {
     "data": {
      "text/html": [
       "<div>\n",
       "<style scoped>\n",
       "    .dataframe tbody tr th:only-of-type {\n",
       "        vertical-align: middle;\n",
       "    }\n",
       "\n",
       "    .dataframe tbody tr th {\n",
       "        vertical-align: top;\n",
       "    }\n",
       "\n",
       "    .dataframe thead th {\n",
       "        text-align: right;\n",
       "    }\n",
       "</style>\n",
       "<table border=\"1\" class=\"dataframe\">\n",
       "  <thead>\n",
       "    <tr style=\"text-align: right;\">\n",
       "      <th></th>\n",
       "      <th>MinTemp</th>\n",
       "      <th>MaxTemp</th>\n",
       "      <th>Rainfall</th>\n",
       "      <th>Evaporation</th>\n",
       "      <th>Sunshine</th>\n",
       "      <th>WindGustSpeed</th>\n",
       "      <th>WindSpeed9am</th>\n",
       "      <th>WindSpeed3pm</th>\n",
       "      <th>Humidity9am</th>\n",
       "      <th>Humidity3pm</th>\n",
       "      <th>...</th>\n",
       "      <th>WindDir3pm_SSE</th>\n",
       "      <th>WindDir3pm_SSW</th>\n",
       "      <th>WindDir3pm_SW</th>\n",
       "      <th>WindDir3pm_W</th>\n",
       "      <th>WindDir3pm_WNW</th>\n",
       "      <th>WindDir3pm_WSW</th>\n",
       "      <th>WindDir3pm_nan</th>\n",
       "      <th>RainToday_No</th>\n",
       "      <th>RainToday_Yes</th>\n",
       "      <th>RainToday_nan</th>\n",
       "    </tr>\n",
       "  </thead>\n",
       "  <tbody>\n",
       "    <tr>\n",
       "      <th>0</th>\n",
       "      <td>0.516509</td>\n",
       "      <td>0.523629</td>\n",
       "      <td>0.001617</td>\n",
       "      <td>0.037723</td>\n",
       "      <td>0.525852</td>\n",
       "      <td>0.294574</td>\n",
       "      <td>0.153846</td>\n",
       "      <td>0.275862</td>\n",
       "      <td>0.71</td>\n",
       "      <td>0.22</td>\n",
       "      <td>...</td>\n",
       "      <td>0.0</td>\n",
       "      <td>0.0</td>\n",
       "      <td>0.0</td>\n",
       "      <td>0.0</td>\n",
       "      <td>1.0</td>\n",
       "      <td>0.0</td>\n",
       "      <td>0.0</td>\n",
       "      <td>1.0</td>\n",
       "      <td>0.0</td>\n",
       "      <td>0.0</td>\n",
       "    </tr>\n",
       "    <tr>\n",
       "      <th>1</th>\n",
       "      <td>0.375000</td>\n",
       "      <td>0.565217</td>\n",
       "      <td>0.000000</td>\n",
       "      <td>0.037723</td>\n",
       "      <td>0.525852</td>\n",
       "      <td>0.294574</td>\n",
       "      <td>0.030769</td>\n",
       "      <td>0.252874</td>\n",
       "      <td>0.44</td>\n",
       "      <td>0.25</td>\n",
       "      <td>...</td>\n",
       "      <td>0.0</td>\n",
       "      <td>0.0</td>\n",
       "      <td>0.0</td>\n",
       "      <td>0.0</td>\n",
       "      <td>0.0</td>\n",
       "      <td>1.0</td>\n",
       "      <td>0.0</td>\n",
       "      <td>1.0</td>\n",
       "      <td>0.0</td>\n",
       "      <td>0.0</td>\n",
       "    </tr>\n",
       "    <tr>\n",
       "      <th>2</th>\n",
       "      <td>0.504717</td>\n",
       "      <td>0.576560</td>\n",
       "      <td>0.000000</td>\n",
       "      <td>0.037723</td>\n",
       "      <td>0.525852</td>\n",
       "      <td>0.310078</td>\n",
       "      <td>0.146154</td>\n",
       "      <td>0.298851</td>\n",
       "      <td>0.38</td>\n",
       "      <td>0.30</td>\n",
       "      <td>...</td>\n",
       "      <td>0.0</td>\n",
       "      <td>0.0</td>\n",
       "      <td>0.0</td>\n",
       "      <td>0.0</td>\n",
       "      <td>0.0</td>\n",
       "      <td>1.0</td>\n",
       "      <td>0.0</td>\n",
       "      <td>1.0</td>\n",
       "      <td>0.0</td>\n",
       "      <td>0.0</td>\n",
       "    </tr>\n",
       "    <tr>\n",
       "      <th>3</th>\n",
       "      <td>0.417453</td>\n",
       "      <td>0.620038</td>\n",
       "      <td>0.000000</td>\n",
       "      <td>0.037723</td>\n",
       "      <td>0.525852</td>\n",
       "      <td>0.139535</td>\n",
       "      <td>0.084615</td>\n",
       "      <td>0.103448</td>\n",
       "      <td>0.45</td>\n",
       "      <td>0.16</td>\n",
       "      <td>...</td>\n",
       "      <td>0.0</td>\n",
       "      <td>0.0</td>\n",
       "      <td>0.0</td>\n",
       "      <td>0.0</td>\n",
       "      <td>0.0</td>\n",
       "      <td>0.0</td>\n",
       "      <td>0.0</td>\n",
       "      <td>1.0</td>\n",
       "      <td>0.0</td>\n",
       "      <td>0.0</td>\n",
       "    </tr>\n",
       "    <tr>\n",
       "      <th>4</th>\n",
       "      <td>0.613208</td>\n",
       "      <td>0.701323</td>\n",
       "      <td>0.002695</td>\n",
       "      <td>0.037723</td>\n",
       "      <td>0.525852</td>\n",
       "      <td>0.271318</td>\n",
       "      <td>0.053846</td>\n",
       "      <td>0.229885</td>\n",
       "      <td>0.82</td>\n",
       "      <td>0.33</td>\n",
       "      <td>...</td>\n",
       "      <td>0.0</td>\n",
       "      <td>0.0</td>\n",
       "      <td>0.0</td>\n",
       "      <td>0.0</td>\n",
       "      <td>0.0</td>\n",
       "      <td>0.0</td>\n",
       "      <td>0.0</td>\n",
       "      <td>1.0</td>\n",
       "      <td>0.0</td>\n",
       "      <td>0.0</td>\n",
       "    </tr>\n",
       "    <tr>\n",
       "      <th>...</th>\n",
       "      <td>...</td>\n",
       "      <td>...</td>\n",
       "      <td>...</td>\n",
       "      <td>...</td>\n",
       "      <td>...</td>\n",
       "      <td>...</td>\n",
       "      <td>...</td>\n",
       "      <td>...</td>\n",
       "      <td>...</td>\n",
       "      <td>...</td>\n",
       "      <td>...</td>\n",
       "      <td>...</td>\n",
       "      <td>...</td>\n",
       "      <td>...</td>\n",
       "      <td>...</td>\n",
       "      <td>...</td>\n",
       "      <td>...</td>\n",
       "      <td>...</td>\n",
       "      <td>...</td>\n",
       "      <td>...</td>\n",
       "      <td>...</td>\n",
       "    </tr>\n",
       "    <tr>\n",
       "      <th>144548</th>\n",
       "      <td>0.599057</td>\n",
       "      <td>0.718336</td>\n",
       "      <td>0.000000</td>\n",
       "      <td>0.037723</td>\n",
       "      <td>0.525852</td>\n",
       "      <td>0.286822</td>\n",
       "      <td>0.184615</td>\n",
       "      <td>0.298851</td>\n",
       "      <td>0.22</td>\n",
       "      <td>0.13</td>\n",
       "      <td>...</td>\n",
       "      <td>1.0</td>\n",
       "      <td>0.0</td>\n",
       "      <td>0.0</td>\n",
       "      <td>0.0</td>\n",
       "      <td>0.0</td>\n",
       "      <td>0.0</td>\n",
       "      <td>0.0</td>\n",
       "      <td>1.0</td>\n",
       "      <td>0.0</td>\n",
       "      <td>0.0</td>\n",
       "    </tr>\n",
       "    <tr>\n",
       "      <th>144549</th>\n",
       "      <td>0.556604</td>\n",
       "      <td>0.786389</td>\n",
       "      <td>0.000000</td>\n",
       "      <td>0.037723</td>\n",
       "      <td>0.525852</td>\n",
       "      <td>0.193798</td>\n",
       "      <td>0.146154</td>\n",
       "      <td>0.229885</td>\n",
       "      <td>0.16</td>\n",
       "      <td>0.08</td>\n",
       "      <td>...</td>\n",
       "      <td>0.0</td>\n",
       "      <td>0.0</td>\n",
       "      <td>1.0</td>\n",
       "      <td>0.0</td>\n",
       "      <td>0.0</td>\n",
       "      <td>0.0</td>\n",
       "      <td>0.0</td>\n",
       "      <td>1.0</td>\n",
       "      <td>0.0</td>\n",
       "      <td>0.0</td>\n",
       "    </tr>\n",
       "    <tr>\n",
       "      <th>144550</th>\n",
       "      <td>0.608491</td>\n",
       "      <td>0.805293</td>\n",
       "      <td>0.000000</td>\n",
       "      <td>0.037723</td>\n",
       "      <td>0.525852</td>\n",
       "      <td>0.255814</td>\n",
       "      <td>0.200000</td>\n",
       "      <td>0.103448</td>\n",
       "      <td>0.15</td>\n",
       "      <td>0.08</td>\n",
       "      <td>...</td>\n",
       "      <td>1.0</td>\n",
       "      <td>0.0</td>\n",
       "      <td>0.0</td>\n",
       "      <td>0.0</td>\n",
       "      <td>0.0</td>\n",
       "      <td>0.0</td>\n",
       "      <td>0.0</td>\n",
       "      <td>1.0</td>\n",
       "      <td>0.0</td>\n",
       "      <td>0.0</td>\n",
       "    </tr>\n",
       "    <tr>\n",
       "      <th>144551</th>\n",
       "      <td>0.674528</td>\n",
       "      <td>0.818526</td>\n",
       "      <td>0.000000</td>\n",
       "      <td>0.037723</td>\n",
       "      <td>0.525852</td>\n",
       "      <td>0.286822</td>\n",
       "      <td>0.215385</td>\n",
       "      <td>0.195402</td>\n",
       "      <td>0.22</td>\n",
       "      <td>0.09</td>\n",
       "      <td>...</td>\n",
       "      <td>0.0</td>\n",
       "      <td>1.0</td>\n",
       "      <td>0.0</td>\n",
       "      <td>0.0</td>\n",
       "      <td>0.0</td>\n",
       "      <td>0.0</td>\n",
       "      <td>0.0</td>\n",
       "      <td>1.0</td>\n",
       "      <td>0.0</td>\n",
       "      <td>0.0</td>\n",
       "    </tr>\n",
       "    <tr>\n",
       "      <th>144552</th>\n",
       "      <td>0.731132</td>\n",
       "      <td>0.839319</td>\n",
       "      <td>0.000000</td>\n",
       "      <td>0.037723</td>\n",
       "      <td>0.525852</td>\n",
       "      <td>0.542636</td>\n",
       "      <td>0.230769</td>\n",
       "      <td>0.149425</td>\n",
       "      <td>0.16</td>\n",
       "      <td>0.09</td>\n",
       "      <td>...</td>\n",
       "      <td>0.0</td>\n",
       "      <td>1.0</td>\n",
       "      <td>0.0</td>\n",
       "      <td>0.0</td>\n",
       "      <td>0.0</td>\n",
       "      <td>0.0</td>\n",
       "      <td>0.0</td>\n",
       "      <td>1.0</td>\n",
       "      <td>0.0</td>\n",
       "      <td>0.0</td>\n",
       "    </tr>\n",
       "  </tbody>\n",
       "</table>\n",
       "<p>98988 rows × 118 columns</p>\n",
       "</div>"
      ],
      "text/plain": [
       "         MinTemp   MaxTemp  Rainfall  Evaporation  Sunshine  WindGustSpeed  \\\n",
       "0       0.516509  0.523629  0.001617     0.037723  0.525852       0.294574   \n",
       "1       0.375000  0.565217  0.000000     0.037723  0.525852       0.294574   \n",
       "2       0.504717  0.576560  0.000000     0.037723  0.525852       0.310078   \n",
       "3       0.417453  0.620038  0.000000     0.037723  0.525852       0.139535   \n",
       "4       0.613208  0.701323  0.002695     0.037723  0.525852       0.271318   \n",
       "...          ...       ...       ...          ...       ...            ...   \n",
       "144548  0.599057  0.718336  0.000000     0.037723  0.525852       0.286822   \n",
       "144549  0.556604  0.786389  0.000000     0.037723  0.525852       0.193798   \n",
       "144550  0.608491  0.805293  0.000000     0.037723  0.525852       0.255814   \n",
       "144551  0.674528  0.818526  0.000000     0.037723  0.525852       0.286822   \n",
       "144552  0.731132  0.839319  0.000000     0.037723  0.525852       0.542636   \n",
       "\n",
       "        WindSpeed9am  WindSpeed3pm  Humidity9am  Humidity3pm  ...  \\\n",
       "0           0.153846      0.275862         0.71         0.22  ...   \n",
       "1           0.030769      0.252874         0.44         0.25  ...   \n",
       "2           0.146154      0.298851         0.38         0.30  ...   \n",
       "3           0.084615      0.103448         0.45         0.16  ...   \n",
       "4           0.053846      0.229885         0.82         0.33  ...   \n",
       "...              ...           ...          ...          ...  ...   \n",
       "144548      0.184615      0.298851         0.22         0.13  ...   \n",
       "144549      0.146154      0.229885         0.16         0.08  ...   \n",
       "144550      0.200000      0.103448         0.15         0.08  ...   \n",
       "144551      0.215385      0.195402         0.22         0.09  ...   \n",
       "144552      0.230769      0.149425         0.16         0.09  ...   \n",
       "\n",
       "        WindDir3pm_SSE  WindDir3pm_SSW  WindDir3pm_SW  WindDir3pm_W  \\\n",
       "0                  0.0             0.0            0.0           0.0   \n",
       "1                  0.0             0.0            0.0           0.0   \n",
       "2                  0.0             0.0            0.0           0.0   \n",
       "3                  0.0             0.0            0.0           0.0   \n",
       "4                  0.0             0.0            0.0           0.0   \n",
       "...                ...             ...            ...           ...   \n",
       "144548             1.0             0.0            0.0           0.0   \n",
       "144549             0.0             0.0            1.0           0.0   \n",
       "144550             1.0             0.0            0.0           0.0   \n",
       "144551             0.0             1.0            0.0           0.0   \n",
       "144552             0.0             1.0            0.0           0.0   \n",
       "\n",
       "        WindDir3pm_WNW  WindDir3pm_WSW  WindDir3pm_nan  RainToday_No  \\\n",
       "0                  1.0             0.0             0.0           1.0   \n",
       "1                  0.0             1.0             0.0           1.0   \n",
       "2                  0.0             1.0             0.0           1.0   \n",
       "3                  0.0             0.0             0.0           1.0   \n",
       "4                  0.0             0.0             0.0           1.0   \n",
       "...                ...             ...             ...           ...   \n",
       "144548             0.0             0.0             0.0           1.0   \n",
       "144549             0.0             0.0             0.0           1.0   \n",
       "144550             0.0             0.0             0.0           1.0   \n",
       "144551             0.0             0.0             0.0           1.0   \n",
       "144552             0.0             0.0             0.0           1.0   \n",
       "\n",
       "        RainToday_Yes  RainToday_nan  \n",
       "0                 0.0            0.0  \n",
       "1                 0.0            0.0  \n",
       "2                 0.0            0.0  \n",
       "3                 0.0            0.0  \n",
       "4                 0.0            0.0  \n",
       "...               ...            ...  \n",
       "144548            0.0            0.0  \n",
       "144549            0.0            0.0  \n",
       "144550            0.0            0.0  \n",
       "144551            0.0            0.0  \n",
       "144552            0.0            0.0  \n",
       "\n",
       "[98988 rows x 118 columns]"
      ]
     },
     "execution_count": 228,
     "metadata": {},
     "output_type": "execute_result"
    }
   ],
   "source": [
    "train_df"
   ]
  },
  {
   "cell_type": "code",
   "execution_count": 229,
   "id": "cb238508",
   "metadata": {},
   "outputs": [
    {
     "data": {
      "text/plain": [
       "array(['No', 'Yes'], dtype=object)"
      ]
     },
     "execution_count": 229,
     "metadata": {},
     "output_type": "execute_result"
    }
   ],
   "source": [
    "train_targets.unique()"
   ]
  },
  {
   "cell_type": "code",
   "execution_count": 230,
   "id": "55de4eb1",
   "metadata": {},
   "outputs": [],
   "source": [
    "from sklearn.preprocessing import LabelBinarizer\n",
    "lb = LabelBinarizer()\n",
    "train_targets=lb.fit_transform(train_targets.astype(str))\n",
    "val_targets=lb.fit_transform(val_targets.astype(str))\n",
    "test_targets=lb.fit_transform(test_targets.astype(str))"
   ]
  },
  {
   "cell_type": "markdown",
   "id": "2717c331",
   "metadata": {},
   "source": [
    "Hyperparameters\n",
    "\n",
    "1. verbosity :- Only used for Display   0 (silent), 1 (warning), 2 (info), and 3 (debug).\n",
    "2. nthread :- Number of parallel threads used to run XGBoost (2* no of cores . Omen has 6 cores and 12 theards. Using 6-8 is advisable as we may run in out of memory issues)\n",
    "3. Learning_rate :- Used to Prevent over fitting . Say step_size=2 and we use lr=0.1 then we only move by 0.2 \n",
    "4. objective :- gbtree(default and mostly used one), gblinear(for linear cases only)\n",
    "5. \n"
   ]
  },
  {
   "cell_type": "code",
   "execution_count": 255,
   "id": "73f4ce0b",
   "metadata": {},
   "outputs": [
    {
     "name": "stderr",
     "output_type": "stream",
     "text": [
      "C:\\Users\\balaji\\anaconda3\\envs\\tf2.4\\lib\\site-packages\\xgboost\\sklearn.py:1146: UserWarning: The use of label encoder in XGBClassifier is deprecated and will be removed in a future release. To remove this warning, do the following: 1) Pass option use_label_encoder=False when constructing XGBClassifier object; and 2) Encode your labels (y) as integers starting with 0, i.e. 0, 1, 2, ..., [num_class - 1].\n",
      "  warnings.warn(label_encoder_deprecation_msg, UserWarning)\n",
      "C:\\Users\\balaji\\anaconda3\\envs\\tf2.4\\lib\\site-packages\\sklearn\\utils\\validation.py:63: DataConversionWarning: A column-vector y was passed when a 1d array was expected. Please change the shape of y to (n_samples, ), for example using ravel().\n",
      "  return f(*args, **kwargs)\n"
     ]
    },
    {
     "name": "stdout",
     "output_type": "stream",
     "text": [
      "Wall time: 26.3 s\n"
     ]
    },
    {
     "data": {
      "text/plain": [
       "0.9430132945407524"
      ]
     },
     "execution_count": 255,
     "metadata": {},
     "output_type": "execute_result"
    }
   ],
   "source": [
    "%%time\n",
    "from xgboost import XGBClassifier\n",
    "xgbc = XGBClassifier(tree_method='gpu_hist',gpu_id=0,learning_rate=0.05,objective='binary:logistic',scale_pos_weight=2, max_depth=12,n_estimators=300,verbosity=0,nthread=6)\n",
    "\n",
    "xgbc.fit(train_df,train_targets)\n",
    "xgbc.score(train_df,train_targets)"
   ]
  },
  {
   "cell_type": "code",
   "execution_count": 256,
   "id": "341c75ca",
   "metadata": {},
   "outputs": [
    {
     "data": {
      "text/plain": [
       "0.8553189019789914"
      ]
     },
     "execution_count": 256,
     "metadata": {},
     "output_type": "execute_result"
    }
   ],
   "source": [
    "xgbc.score(val_df,val_targets)"
   ]
  },
  {
   "cell_type": "code",
   "execution_count": 257,
   "id": "777f1dff",
   "metadata": {},
   "outputs": [
    {
     "data": {
      "text/plain": [
       "0.8416493416493417"
      ]
     },
     "execution_count": 257,
     "metadata": {},
     "output_type": "execute_result"
    }
   ],
   "source": [
    "xgbc.score(test_df,test_targets)"
   ]
  },
  {
   "cell_type": "code",
   "execution_count": 262,
   "id": "88fb3a44",
   "metadata": {},
   "outputs": [],
   "source": [
    "def test_model(**params):\n",
    "        model=XGBClassifier(tree_method='gpu_hist',gpu_id=0,random_state=42,**params,nthread=6,objective='binary:logistic',)\n",
    "        model.fit(train_df,train_targets)\n",
    "        return model.score(train_df,train_targets),model.score(val_df,val_targets)"
   ]
  },
  {
   "cell_type": "code",
   "execution_count": 272,
   "id": "85a549ef",
   "metadata": {},
   "outputs": [
    {
     "name": "stderr",
     "output_type": "stream",
     "text": [
      "C:\\Users\\balaji\\anaconda3\\envs\\tf2.4\\lib\\site-packages\\xgboost\\sklearn.py:1146: UserWarning: The use of label encoder in XGBClassifier is deprecated and will be removed in a future release. To remove this warning, do the following: 1) Pass option use_label_encoder=False when constructing XGBClassifier object; and 2) Encode your labels (y) as integers starting with 0, i.e. 0, 1, 2, ..., [num_class - 1].\n",
      "  warnings.warn(label_encoder_deprecation_msg, UserWarning)\n",
      "C:\\Users\\balaji\\anaconda3\\envs\\tf2.4\\lib\\site-packages\\sklearn\\utils\\validation.py:63: DataConversionWarning: A column-vector y was passed when a 1d array was expected. Please change the shape of y to (n_samples, ), for example using ravel().\n",
      "  return f(*args, **kwargs)\n"
     ]
    },
    {
     "name": "stdout",
     "output_type": "stream",
     "text": [
      "(0.869994342748616, 0.8572340549010504)\n"
     ]
    },
    {
     "name": "stderr",
     "output_type": "stream",
     "text": [
      "C:\\Users\\balaji\\anaconda3\\envs\\tf2.4\\lib\\site-packages\\xgboost\\sklearn.py:1146: UserWarning: The use of label encoder in XGBClassifier is deprecated and will be removed in a future release. To remove this warning, do the following: 1) Pass option use_label_encoder=False when constructing XGBClassifier object; and 2) Encode your labels (y) as integers starting with 0, i.e. 0, 1, 2, ..., [num_class - 1].\n",
      "  warnings.warn(label_encoder_deprecation_msg, UserWarning)\n",
      "C:\\Users\\balaji\\anaconda3\\envs\\tf2.4\\lib\\site-packages\\sklearn\\utils\\validation.py:63: DataConversionWarning: A column-vector y was passed when a 1d array was expected. Please change the shape of y to (n_samples, ), for example using ravel().\n",
      "  return f(*args, **kwargs)\n"
     ]
    },
    {
     "name": "stdout",
     "output_type": "stream",
     "text": [
      "(0.8878854002505354, 0.8597875921304625)\n"
     ]
    },
    {
     "name": "stderr",
     "output_type": "stream",
     "text": [
      "C:\\Users\\balaji\\anaconda3\\envs\\tf2.4\\lib\\site-packages\\xgboost\\sklearn.py:1146: UserWarning: The use of label encoder in XGBClassifier is deprecated and will be removed in a future release. To remove this warning, do the following: 1) Pass option use_label_encoder=False when constructing XGBClassifier object; and 2) Encode your labels (y) as integers starting with 0, i.e. 0, 1, 2, ..., [num_class - 1].\n",
      "  warnings.warn(label_encoder_deprecation_msg, UserWarning)\n",
      "C:\\Users\\balaji\\anaconda3\\envs\\tf2.4\\lib\\site-packages\\sklearn\\utils\\validation.py:63: DataConversionWarning: A column-vector y was passed when a 1d array was expected. Please change the shape of y to (n_samples, ), for example using ravel().\n",
      "  return f(*args, **kwargs)\n"
     ]
    },
    {
     "name": "stdout",
     "output_type": "stream",
     "text": [
      "(0.906463409706227, 0.8556671116011839)\n"
     ]
    },
    {
     "name": "stderr",
     "output_type": "stream",
     "text": [
      "C:\\Users\\balaji\\anaconda3\\envs\\tf2.4\\lib\\site-packages\\xgboost\\sklearn.py:1146: UserWarning: The use of label encoder in XGBClassifier is deprecated and will be removed in a future release. To remove this warning, do the following: 1) Pass option use_label_encoder=False when constructing XGBClassifier object; and 2) Encode your labels (y) as integers starting with 0, i.e. 0, 1, 2, ..., [num_class - 1].\n",
      "  warnings.warn(label_encoder_deprecation_msg, UserWarning)\n",
      "C:\\Users\\balaji\\anaconda3\\envs\\tf2.4\\lib\\site-packages\\sklearn\\utils\\validation.py:63: DataConversionWarning: A column-vector y was passed when a 1d array was expected. Please change the shape of y to (n_samples, ), for example using ravel().\n",
      "  return f(*args, **kwargs)\n"
     ]
    },
    {
     "name": "stdout",
     "output_type": "stream",
     "text": [
      "(0.7701640602901362, 0.7842841390517091)\n"
     ]
    }
   ],
   "source": [
    "print(test_model(learning_rate=0.1,verbosity=0))\n",
    "print(test_model(learning_rate=0.25,verbosity=0))\n",
    "print(test_model(learning_rate=0.5,verbosity=0))\n",
    "print(test_model(learning_rate=2,verbosity=0))"
   ]
  },
  {
   "cell_type": "code",
   "execution_count": 275,
   "id": "9fc5cb72",
   "metadata": {},
   "outputs": [
    {
     "name": "stderr",
     "output_type": "stream",
     "text": [
      "C:\\Users\\balaji\\anaconda3\\envs\\tf2.4\\lib\\site-packages\\xgboost\\sklearn.py:1146: UserWarning: The use of label encoder in XGBClassifier is deprecated and will be removed in a future release. To remove this warning, do the following: 1) Pass option use_label_encoder=False when constructing XGBClassifier object; and 2) Encode your labels (y) as integers starting with 0, i.e. 0, 1, 2, ..., [num_class - 1].\n",
      "  warnings.warn(label_encoder_deprecation_msg, UserWarning)\n",
      "C:\\Users\\balaji\\anaconda3\\envs\\tf2.4\\lib\\site-packages\\sklearn\\utils\\validation.py:63: DataConversionWarning: A column-vector y was passed when a 1d array was expected. Please change the shape of y to (n_samples, ), for example using ravel().\n",
      "  return f(*args, **kwargs)\n"
     ]
    },
    {
     "name": "stdout",
     "output_type": "stream",
     "text": [
      "(0.8878854002505354, 0.8597875921304625)\n"
     ]
    },
    {
     "name": "stderr",
     "output_type": "stream",
     "text": [
      "C:\\Users\\balaji\\anaconda3\\envs\\tf2.4\\lib\\site-packages\\xgboost\\sklearn.py:1146: UserWarning: The use of label encoder in XGBClassifier is deprecated and will be removed in a future release. To remove this warning, do the following: 1) Pass option use_label_encoder=False when constructing XGBClassifier object; and 2) Encode your labels (y) as integers starting with 0, i.e. 0, 1, 2, ..., [num_class - 1].\n",
      "  warnings.warn(label_encoder_deprecation_msg, UserWarning)\n",
      "C:\\Users\\balaji\\anaconda3\\envs\\tf2.4\\lib\\site-packages\\sklearn\\utils\\validation.py:63: DataConversionWarning: A column-vector y was passed when a 1d array was expected. Please change the shape of y to (n_samples, ), for example using ravel().\n",
      "  return f(*args, **kwargs)\n"
     ]
    },
    {
     "name": "stdout",
     "output_type": "stream",
     "text": [
      "(0.8808441427243706, 0.8542162381753816)\n"
     ]
    },
    {
     "name": "stderr",
     "output_type": "stream",
     "text": [
      "C:\\Users\\balaji\\anaconda3\\envs\\tf2.4\\lib\\site-packages\\xgboost\\sklearn.py:1146: UserWarning: The use of label encoder in XGBClassifier is deprecated and will be removed in a future release. To remove this warning, do the following: 1) Pass option use_label_encoder=False when constructing XGBClassifier object; and 2) Encode your labels (y) as integers starting with 0, i.e. 0, 1, 2, ..., [num_class - 1].\n",
      "  warnings.warn(label_encoder_deprecation_msg, UserWarning)\n",
      "C:\\Users\\balaji\\anaconda3\\envs\\tf2.4\\lib\\site-packages\\sklearn\\utils\\validation.py:63: DataConversionWarning: A column-vector y was passed when a 1d array was expected. Please change the shape of y to (n_samples, ), for example using ravel().\n",
      "  return f(*args, **kwargs)\n"
     ]
    },
    {
     "name": "stdout",
     "output_type": "stream",
     "text": [
      "(0.8617509193033499, 0.8383727003656201)\n"
     ]
    },
    {
     "name": "stderr",
     "output_type": "stream",
     "text": [
      "C:\\Users\\balaji\\anaconda3\\envs\\tf2.4\\lib\\site-packages\\xgboost\\sklearn.py:1146: UserWarning: The use of label encoder in XGBClassifier is deprecated and will be removed in a future release. To remove this warning, do the following: 1) Pass option use_label_encoder=False when constructing XGBClassifier object; and 2) Encode your labels (y) as integers starting with 0, i.e. 0, 1, 2, ..., [num_class - 1].\n",
      "  warnings.warn(label_encoder_deprecation_msg, UserWarning)\n",
      "C:\\Users\\balaji\\anaconda3\\envs\\tf2.4\\lib\\site-packages\\sklearn\\utils\\validation.py:63: DataConversionWarning: A column-vector y was passed when a 1d array was expected. Please change the shape of y to (n_samples, ), for example using ravel().\n",
      "  return f(*args, **kwargs)\n"
     ]
    },
    {
     "name": "stdout",
     "output_type": "stream",
     "text": [
      "(0.8424455489554289, 0.8204399048227032)\n"
     ]
    }
   ],
   "source": [
    "print(test_model(learning_rate=0.25,verbosity=0,scale_pos_weight=1))\n",
    "print(test_model(learning_rate=0.25,verbosity=0,scale_pos_weight=2))\n",
    "print(test_model(learning_rate=0.25,verbosity=0,scale_pos_weight=3))\n",
    "print(test_model(learning_rate=0.25,verbosity=0,scale_pos_weight=4))"
   ]
  },
  {
   "cell_type": "code",
   "execution_count": 277,
   "id": "2faa451f",
   "metadata": {},
   "outputs": [
    {
     "name": "stderr",
     "output_type": "stream",
     "text": [
      "C:\\Users\\balaji\\anaconda3\\envs\\tf2.4\\lib\\site-packages\\xgboost\\sklearn.py:1146: UserWarning: The use of label encoder in XGBClassifier is deprecated and will be removed in a future release. To remove this warning, do the following: 1) Pass option use_label_encoder=False when constructing XGBClassifier object; and 2) Encode your labels (y) as integers starting with 0, i.e. 0, 1, 2, ..., [num_class - 1].\n",
      "  warnings.warn(label_encoder_deprecation_msg, UserWarning)\n",
      "C:\\Users\\balaji\\anaconda3\\envs\\tf2.4\\lib\\site-packages\\sklearn\\utils\\validation.py:63: DataConversionWarning: A column-vector y was passed when a 1d array was expected. Please change the shape of y to (n_samples, ), for example using ravel().\n",
      "  return f(*args, **kwargs)\n"
     ]
    },
    {
     "name": "stdout",
     "output_type": "stream",
     "text": [
      "(0.8519113427890249, 0.8485868492832686)\n"
     ]
    },
    {
     "name": "stderr",
     "output_type": "stream",
     "text": [
      "C:\\Users\\balaji\\anaconda3\\envs\\tf2.4\\lib\\site-packages\\xgboost\\sklearn.py:1146: UserWarning: The use of label encoder in XGBClassifier is deprecated and will be removed in a future release. To remove this warning, do the following: 1) Pass option use_label_encoder=False when constructing XGBClassifier object; and 2) Encode your labels (y) as integers starting with 0, i.e. 0, 1, 2, ..., [num_class - 1].\n",
      "  warnings.warn(label_encoder_deprecation_msg, UserWarning)\n",
      "C:\\Users\\balaji\\anaconda3\\envs\\tf2.4\\lib\\site-packages\\sklearn\\utils\\validation.py:63: DataConversionWarning: A column-vector y was passed when a 1d array was expected. Please change the shape of y to (n_samples, ), for example using ravel().\n",
      "  return f(*args, **kwargs)\n"
     ]
    },
    {
     "name": "stdout",
     "output_type": "stream",
     "text": [
      "(0.8633975835454802, 0.8505600371423597)\n"
     ]
    },
    {
     "name": "stderr",
     "output_type": "stream",
     "text": [
      "C:\\Users\\balaji\\anaconda3\\envs\\tf2.4\\lib\\site-packages\\xgboost\\sklearn.py:1146: UserWarning: The use of label encoder in XGBClassifier is deprecated and will be removed in a future release. To remove this warning, do the following: 1) Pass option use_label_encoder=False when constructing XGBClassifier object; and 2) Encode your labels (y) as integers starting with 0, i.e. 0, 1, 2, ..., [num_class - 1].\n",
      "  warnings.warn(label_encoder_deprecation_msg, UserWarning)\n",
      "C:\\Users\\balaji\\anaconda3\\envs\\tf2.4\\lib\\site-packages\\sklearn\\utils\\validation.py:63: DataConversionWarning: A column-vector y was passed when a 1d array was expected. Please change the shape of y to (n_samples, ), for example using ravel().\n",
      "  return f(*args, **kwargs)\n"
     ]
    },
    {
     "name": "stdout",
     "output_type": "stream",
     "text": [
      "(0.8808441427243706, 0.8542162381753816)\n"
     ]
    },
    {
     "name": "stderr",
     "output_type": "stream",
     "text": [
      "C:\\Users\\balaji\\anaconda3\\envs\\tf2.4\\lib\\site-packages\\xgboost\\sklearn.py:1146: UserWarning: The use of label encoder in XGBClassifier is deprecated and will be removed in a future release. To remove this warning, do the following: 1) Pass option use_label_encoder=False when constructing XGBClassifier object; and 2) Encode your labels (y) as integers starting with 0, i.e. 0, 1, 2, ..., [num_class - 1].\n",
      "  warnings.warn(label_encoder_deprecation_msg, UserWarning)\n",
      "C:\\Users\\balaji\\anaconda3\\envs\\tf2.4\\lib\\site-packages\\sklearn\\utils\\validation.py:63: DataConversionWarning: A column-vector y was passed when a 1d array was expected. Please change the shape of y to (n_samples, ), for example using ravel().\n",
      "  return f(*args, **kwargs)\n"
     ]
    },
    {
     "name": "stdout",
     "output_type": "stream",
     "text": [
      "(0.9044025538449105, 0.8552028321049272)\n"
     ]
    },
    {
     "name": "stderr",
     "output_type": "stream",
     "text": [
      "C:\\Users\\balaji\\anaconda3\\envs\\tf2.4\\lib\\site-packages\\xgboost\\sklearn.py:1146: UserWarning: The use of label encoder in XGBClassifier is deprecated and will be removed in a future release. To remove this warning, do the following: 1) Pass option use_label_encoder=False when constructing XGBClassifier object; and 2) Encode your labels (y) as integers starting with 0, i.e. 0, 1, 2, ..., [num_class - 1].\n",
      "  warnings.warn(label_encoder_deprecation_msg, UserWarning)\n",
      "C:\\Users\\balaji\\anaconda3\\envs\\tf2.4\\lib\\site-packages\\sklearn\\utils\\validation.py:63: DataConversionWarning: A column-vector y was passed when a 1d array was expected. Please change the shape of y to (n_samples, ), for example using ravel().\n",
      "  return f(*args, **kwargs)\n"
     ]
    },
    {
     "name": "stdout",
     "output_type": "stream",
     "text": [
      "(0.9236069018466885, 0.8552028321049272)\n"
     ]
    }
   ],
   "source": [
    "print(test_model(learning_rate=0.25,verbosity=0,scale_pos_weight=2,n_estimators=25))\n",
    "print(test_model(learning_rate=0.25,verbosity=0,scale_pos_weight=2,n_estimators=50))\n",
    "print(test_model(learning_rate=0.25,verbosity=0,scale_pos_weight=2,n_estimators=100))\n",
    "print(test_model(learning_rate=0.25,verbosity=0,scale_pos_weight=2,n_estimators=200))\n",
    "print(test_model(learning_rate=0.25,verbosity=0,scale_pos_weight=2,n_estimators=300))"
   ]
  },
  {
   "cell_type": "code",
   "execution_count": 280,
   "id": "a4f0fa19",
   "metadata": {},
   "outputs": [
    {
     "name": "stdout",
     "output_type": "stream",
     "text": [
      "(0.9044025538449105, 0.8552028321049272)\n"
     ]
    },
    {
     "name": "stderr",
     "output_type": "stream",
     "text": [
      "C:\\Users\\balaji\\anaconda3\\envs\\tf2.4\\lib\\site-packages\\xgboost\\sklearn.py:1146: UserWarning: The use of label encoder in XGBClassifier is deprecated and will be removed in a future release. To remove this warning, do the following: 1) Pass option use_label_encoder=False when constructing XGBClassifier object; and 2) Encode your labels (y) as integers starting with 0, i.e. 0, 1, 2, ..., [num_class - 1].\n",
      "  warnings.warn(label_encoder_deprecation_msg, UserWarning)\n",
      "C:\\Users\\balaji\\anaconda3\\envs\\tf2.4\\lib\\site-packages\\sklearn\\utils\\validation.py:63: DataConversionWarning: A column-vector y was passed when a 1d array was expected. Please change the shape of y to (n_samples, ), for example using ravel().\n",
      "  return f(*args, **kwargs)\n"
     ]
    },
    {
     "name": "stdout",
     "output_type": "stream",
     "text": [
      "(0.9995453994423567, 0.8583947536416923)\n"
     ]
    },
    {
     "name": "stderr",
     "output_type": "stream",
     "text": [
      "C:\\Users\\balaji\\anaconda3\\envs\\tf2.4\\lib\\site-packages\\xgboost\\sklearn.py:1146: UserWarning: The use of label encoder in XGBClassifier is deprecated and will be removed in a future release. To remove this warning, do the following: 1) Pass option use_label_encoder=False when constructing XGBClassifier object; and 2) Encode your labels (y) as integers starting with 0, i.e. 0, 1, 2, ..., [num_class - 1].\n",
      "  warnings.warn(label_encoder_deprecation_msg, UserWarning)\n",
      "C:\\Users\\balaji\\anaconda3\\envs\\tf2.4\\lib\\site-packages\\sklearn\\utils\\validation.py:63: DataConversionWarning: A column-vector y was passed when a 1d array was expected. Please change the shape of y to (n_samples, ), for example using ravel().\n",
      "  return f(*args, **kwargs)\n"
     ]
    },
    {
     "name": "stdout",
     "output_type": "stream",
     "text": [
      "(0.9999797955307714, 0.8593233126342058)\n"
     ]
    }
   ],
   "source": [
    "print(test_model(learning_rate=0.25,verbosity=0,scale_pos_weight=2,n_estimators=200,max_depth=6))\n",
    "print(test_model(learning_rate=0.25,verbosity=0,scale_pos_weight=2,n_estimators=200,max_depth=12))\n",
    "print(test_model(learning_rate=0.25,verbosity=0,scale_pos_weight=2,n_estimators=200,max_depth=24))"
   ]
  },
  {
   "cell_type": "code",
   "execution_count": 294,
   "id": "b3aaf818",
   "metadata": {},
   "outputs": [
    {
     "name": "stderr",
     "output_type": "stream",
     "text": [
      "C:\\Users\\balaji\\anaconda3\\envs\\tf2.4\\lib\\site-packages\\xgboost\\sklearn.py:1146: UserWarning: The use of label encoder in XGBClassifier is deprecated and will be removed in a future release. To remove this warning, do the following: 1) Pass option use_label_encoder=False when constructing XGBClassifier object; and 2) Encode your labels (y) as integers starting with 0, i.e. 0, 1, 2, ..., [num_class - 1].\n",
      "  warnings.warn(label_encoder_deprecation_msg, UserWarning)\n",
      "C:\\Users\\balaji\\anaconda3\\envs\\tf2.4\\lib\\site-packages\\sklearn\\utils\\validation.py:63: DataConversionWarning: A column-vector y was passed when a 1d array was expected. Please change the shape of y to (n_samples, ), for example using ravel().\n",
      "  return f(*args, **kwargs)\n"
     ]
    },
    {
     "data": {
      "text/plain": [
       "(0.9291833353537803, 0.8553189019789914, 0.8416493416493417)"
      ]
     },
     "execution_count": 294,
     "metadata": {},
     "output_type": "execute_result"
    }
   ],
   "source": [
    "# model seems to work the best\n",
    "model = XGBClassifier(tree_method='gpu_hist',gpu_id=0,objective='binary:logistic',nthread=6,\n",
    "                      learning_rate=0.25,verbosity=0,scale_pos_weight=2,n_estimators=50,max_depth=10)\n",
    "model.fit(train_df,train_targets)\n",
    "model.score(train_df,train_targets),xgbc.score(val_df,val_targets),xgbc.score(test_df,test_targets),"
   ]
  },
  {
   "cell_type": "code",
   "execution_count": 295,
   "id": "234f2351",
   "metadata": {},
   "outputs": [
    {
     "data": {
      "image/png": "[encoded data removed]",
      "text/plain": [
       "<Figure size 640x480 with 1 Axes>"
      ]
     },
     "metadata": {},
     "output_type": "display_data"
    }
   ],
   "source": [
    "importance_df = pd.DataFrame({\n",
    "    'feature': train_df.columns,\n",
    "    'importance': model.feature_importances_\n",
    "}).sort_values('importance', ascending=False)\n",
    "plt.title('Feature Importance')\n",
    "sns.barplot(data=importance_df.head(10), x='importance', y='feature');\n",
    "plt.show()"
   ]
  },
  {
   "cell_type": "code",
   "execution_count": 298,
   "id": "b988364c",
   "metadata": {},
   "outputs": [
    {
     "name": "stderr",
     "output_type": "stream",
     "text": [
      "C:\\Users\\balaji\\anaconda3\\envs\\tf2.4\\lib\\site-packages\\pandas\\core\\frame.py:3673: PerformanceWarning: DataFrame is highly fragmented.  This is usually the result of calling `frame.insert` many times, which has poor performance.  Consider joining all columns at once using pd.concat(axis=1) instead.  To get a de-fragmented frame, use `newframe = frame.copy()`\n",
      "  self[col] = igetitem(value, i)\n"
     ]
    }
   ],
   "source": [
    "sample_test = {'Date': '2021-06-19',\n",
    "             'Location': 'Katherine',\n",
    "             'MinTemp': 23.2,\n",
    "             'MaxTemp': 33.2,\n",
    "             'Rainfall': 10.2,\n",
    "             'Evaporation': 4.2,\n",
    "             'Sunshine': np.nan,\n",
    "             'WindGustDir': 'NNW',\n",
    "             'WindGustSpeed': 52.0,\n",
    "             'WindDir9am': 'NW',\n",
    "             'WindDir3pm': 'NNE',\n",
    "             'WindSpeed9am': 13.0,\n",
    "             'WindSpeed3pm': 20.0,\n",
    "             'Humidity9am': 89.0,\n",
    "             'Humidity3pm': 58.0,\n",
    "             'Pressure9am': 1004.8,\n",
    "             'Pressure3pm': 1001.5,\n",
    "             'Cloud9am': 8.0,\n",
    "             'Cloud3pm': 5.0,\n",
    "             'Temp9am': 25.7,\n",
    "             'Temp3pm': 33.0,\n",
    "             'RainToday': 'Yes'}\n",
    "sample_df=pd.DataFrame([sample_test])\n",
    "sample_df[numeric_cols] = imputer.transform(sample_df[numeric_cols]);\n",
    "sample_df[numeric_cols] = scaler.transform(sample_df[numeric_cols]);\n",
    "sample_df[encoded_cols] = encoder.transform(sample_df[categorical_cols]);\n",
    "sample_df=sample_df[numeric_cols+encoded_cols]"
   ]
  },
  {
   "cell_type": "code",
   "execution_count": 300,
   "id": "06c05dd5",
   "metadata": {},
   "outputs": [
    {
     "data": {
      "text/plain": [
       "array([1])"
      ]
     },
     "execution_count": 300,
     "metadata": {},
     "output_type": "execute_result"
    }
   ],
   "source": [
    "prediction = xgbc.predict(sample_df)\n",
    "prediction"
   ]
  },
  {
   "cell_type": "code",
   "execution_count": 299,
   "id": "f16a976c",
   "metadata": {},
   "outputs": [
    {
     "data": {
      "text/plain": [
       "array([0.15115172, 0.8488483 ], dtype=float32)"
      ]
     },
     "execution_count": 299,
     "metadata": {},
     "output_type": "execute_result"
    }
   ],
   "source": [
    "prob = xgbc.predict_proba(sample_df)[0]\n",
    "prob"
   ]
  }
 ],
 "metadata": {
  "kernelspec": {
   "display_name": "Python 3",
   "language": "python",
   "name": "python3"
  },
  "language_info": {
   "codemirror_mode": {
    "name": "ipython",
    "version": 3
   },
   "file_extension": ".py",
   "mimetype": "text/x-python",
   "name": "python",
   "nbconvert_exporter": "python",
   "pygments_lexer": "ipython3",
   "version": "3.8.0"
  }
 },
 "nbformat": 4,
 "nbformat_minor": 5
}
